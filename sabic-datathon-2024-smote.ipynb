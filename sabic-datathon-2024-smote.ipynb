{
 "cells": [
  {
   "cell_type": "code",
   "execution_count": 1,
   "id": "b980cbd9",
   "metadata": {
    "_cell_guid": "b1076dfc-b9ad-4769-8c92-a6c4dae69d19",
    "_uuid": "8f2839f25d086af736a60e9eeb907d3b93b6e0e5",
    "execution": {
     "iopub.execute_input": "2024-10-14T20:10:30.063614Z",
     "iopub.status.busy": "2024-10-14T20:10:30.063070Z",
     "iopub.status.idle": "2024-10-14T20:10:30.993338Z",
     "shell.execute_reply": "2024-10-14T20:10:30.991881Z"
    },
    "papermill": {
     "duration": 0.942318,
     "end_time": "2024-10-14T20:10:30.996176",
     "exception": false,
     "start_time": "2024-10-14T20:10:30.053858",
     "status": "completed"
    },
    "tags": []
   },
   "outputs": [
    {
     "name": "stdout",
     "output_type": "stream",
     "text": [
      "/kaggle/input/evaluation/Evaluation 1.csv\n",
      "/kaggle/input/dataset/Dataset.csv\n"
     ]
    }
   ],
   "source": [
    "# This Python 3 environment comes with many helpful analytics libraries installed\n",
    "# It is defined by the kaggle/python Docker image: https://github.com/kaggle/docker-python\n",
    "# For example, here's several helpful packages to load\n",
    "\n",
    "import numpy as np # linear algebra\n",
    "import pandas as pd # data processing, CSV file I/O (e.g. pd.read_csv)\n",
    "\n",
    "# Input data files are available in the read-only \"../input/\" directory\n",
    "# For example, running this (by clicking run or pressing Shift+Enter) will list all files under the input directory\n",
    "\n",
    "import os\n",
    "for dirname, _, filenames in os.walk('/kaggle/input'):\n",
    "    for filename in filenames:\n",
    "        print(os.path.join(dirname, filename))\n",
    "\n",
    "# You can write up to 20GB to the current directory (/kaggle/working/) that gets preserved as output when you create a version using \"Save & Run All\" \n",
    "# You can also write temporary files to /kaggle/temp/, but they won't be saved outside of the current session"
   ]
  },
  {
   "cell_type": "code",
   "execution_count": 2,
   "id": "35c2747d",
   "metadata": {
    "execution": {
     "iopub.execute_input": "2024-10-14T20:10:31.012072Z",
     "iopub.status.busy": "2024-10-14T20:10:31.011489Z",
     "iopub.status.idle": "2024-10-14T20:10:31.462484Z",
     "shell.execute_reply": "2024-10-14T20:10:31.461248Z"
    },
    "papermill": {
     "duration": 0.461657,
     "end_time": "2024-10-14T20:10:31.465049",
     "exception": false,
     "start_time": "2024-10-14T20:10:31.003392",
     "status": "completed"
    },
    "tags": []
   },
   "outputs": [
    {
     "name": "stdout",
     "output_type": "stream",
     "text": [
      "       ID  MACHINE_ID      DATE REGION_CLUSTER MAINTENANCE_VENDOR  \\\n",
      "0   68363      100306  12/16/15              B                  O   \n",
      "1  107660      100457   6/22/15              A                  J   \n",
      "2  102436      100441    3/7/15              B                  J   \n",
      "3  108768      100460    7/3/16              D                  L   \n",
      "4  108254      100460    2/5/15              D                  L   \n",
      "\n",
      "  MANUFACTURER  WELL_GROUP      S15     S17    S13           S5      S16  \\\n",
      "0            Z           4  23.0400    0.00  25.60  2150.000000  10.2128   \n",
      "1            S           1  20.7180    6.64  35.80  4260.210526   0.0000   \n",
      "2            Q           3  24.2400    0.00  32.92  3917.000000  10.4066   \n",
      "3            W           4  10.4305  186.16  27.33  2432.000000   8.0769   \n",
      "4            W           4   8.2516  203.83  30.38  2704.000000   6.7431   \n",
      "\n",
      "    S19    S18          S8  AGE_OF_EQUIPMENT  EQUIPMENT_FAILURE  \n",
      "0   7.9   89.2  108.490000              1219                  0  \n",
      "1   3.6  202.7   12.365263              8882                  0  \n",
      "2  30.1  300.3  284.660000               415                  0  \n",
      "3   6.3   20.3   45.010000               919                  0  \n",
      "4   7.4   26.2   41.740000               405                  0  \n"
     ]
    }
   ],
   "source": [
    "# first of all uplaoding the data using the panda\n",
    "\n",
    "data=pd.read_csv(\"/kaggle/input/dataset/Dataset.csv\")\n",
    "print(data.head())"
   ]
  },
  {
   "cell_type": "code",
   "execution_count": 3,
   "id": "030de368",
   "metadata": {
    "execution": {
     "iopub.execute_input": "2024-10-14T20:10:31.481443Z",
     "iopub.status.busy": "2024-10-14T20:10:31.481028Z",
     "iopub.status.idle": "2024-10-14T20:10:31.599059Z",
     "shell.execute_reply": "2024-10-14T20:10:31.597629Z"
    },
    "papermill": {
     "duration": 0.128917,
     "end_time": "2024-10-14T20:10:31.601630",
     "exception": false,
     "start_time": "2024-10-14T20:10:31.472713",
     "status": "completed"
    },
    "tags": []
   },
   "outputs": [
    {
     "name": "stdout",
     "output_type": "stream",
     "text": [
      "                  ID     MACHINE_ID     WELL_GROUP            S15  \\\n",
      "count  145359.000000  145359.000000  145359.000000  145359.000000   \n",
      "mean    74913.977270  100320.368997       2.497554      14.196806   \n",
      "std     43247.788839     178.456256       1.093891       8.666232   \n",
      "min         1.000000  100001.000000       1.000000       0.000000   \n",
      "25%     37477.500000  100164.000000       2.000000       7.548000   \n",
      "50%     74899.000000  100328.000000       2.000000      11.088000   \n",
      "75%    112333.500000  100472.000000       3.000000      22.080000   \n",
      "max    149855.000000  100612.000000       4.000000      51.225600   \n",
      "\n",
      "                 S17            S13             S5            S16  \\\n",
      "count  145359.000000  145359.000000  145359.000000  145359.000000   \n",
      "mean       85.864514      35.652372    4559.048392       7.925264   \n",
      "std        85.558299      14.719491    2500.392481       2.426455   \n",
      "min         0.000000       0.000000       0.000000       0.000000   \n",
      "25%         0.000000      28.260000    3195.000000       6.596000   \n",
      "50%        95.200000      35.020000    4225.083333       8.025000   \n",
      "75%       163.660000      41.950000    5616.000000       9.480700   \n",
      "max       478.470000     570.510000   52767.000000      23.533800   \n",
      "\n",
      "                 S19            S18             S8  AGE_OF_EQUIPMENT  \\\n",
      "count  145359.000000  145359.000000  145359.000000     145359.000000   \n",
      "mean        8.234890     110.184382     117.532703       2752.041731   \n",
      "std        13.035801     197.551531     204.169373       3369.526553   \n",
      "min         0.000000       0.000000     -16.490000          0.000000   \n",
      "25%         0.900000      11.300000       8.700000        754.000000   \n",
      "50%         4.200000      34.100000      44.390000       1143.000000   \n",
      "75%        10.500000     119.000000     135.200000       3226.000000   \n",
      "max       291.100000    3995.900000    1824.960000      15170.000000   \n",
      "\n",
      "       EQUIPMENT_FAILURE  \n",
      "count      145359.000000  \n",
      "mean            0.001355  \n",
      "std             0.036789  \n",
      "min             0.000000  \n",
      "25%             0.000000  \n",
      "50%             0.000000  \n",
      "75%             0.000000  \n",
      "max             1.000000  \n",
      "Index(['ID', 'MACHINE_ID', 'DATE', 'REGION_CLUSTER', 'MAINTENANCE_VENDOR',\n",
      "       'MANUFACTURER', 'WELL_GROUP', 'S15', 'S17', 'S13', 'S5', 'S16', 'S19',\n",
      "       'S18', 'S8', 'AGE_OF_EQUIPMENT', 'EQUIPMENT_FAILURE'],\n",
      "      dtype='object')\n"
     ]
    }
   ],
   "source": [
    "# explore the data \n",
    "print(data.describe())\n",
    "print (data.columns)\n"
   ]
  },
  {
   "cell_type": "code",
   "execution_count": 4,
   "id": "b9cce82d",
   "metadata": {
    "execution": {
     "iopub.execute_input": "2024-10-14T20:10:31.617211Z",
     "iopub.status.busy": "2024-10-14T20:10:31.616815Z",
     "iopub.status.idle": "2024-10-14T20:10:31.652846Z",
     "shell.execute_reply": "2024-10-14T20:10:31.650825Z"
    },
    "papermill": {
     "duration": 0.046671,
     "end_time": "2024-10-14T20:10:31.655351",
     "exception": false,
     "start_time": "2024-10-14T20:10:31.608680",
     "status": "completed"
    },
    "tags": []
   },
   "outputs": [
    {
     "name": "stdout",
     "output_type": "stream",
     "text": [
      "ID                    0\n",
      "MACHINE_ID            0\n",
      "DATE                  0\n",
      "REGION_CLUSTER        0\n",
      "MAINTENANCE_VENDOR    0\n",
      "MANUFACTURER          0\n",
      "WELL_GROUP            0\n",
      "S15                   0\n",
      "S17                   0\n",
      "S13                   0\n",
      "S5                    0\n",
      "S16                   0\n",
      "S19                   0\n",
      "S18                   0\n",
      "S8                    0\n",
      "AGE_OF_EQUIPMENT      0\n",
      "EQUIPMENT_FAILURE     0\n",
      "dtype: int64\n"
     ]
    }
   ],
   "source": [
    "# check for any na\n",
    "print(data.isna().sum())"
   ]
  },
  {
   "cell_type": "code",
   "execution_count": 5,
   "id": "56c29d67",
   "metadata": {
    "execution": {
     "iopub.execute_input": "2024-10-14T20:10:31.672317Z",
     "iopub.status.busy": "2024-10-14T20:10:31.671874Z",
     "iopub.status.idle": "2024-10-14T20:10:31.710866Z",
     "shell.execute_reply": "2024-10-14T20:10:31.709555Z"
    },
    "papermill": {
     "duration": 0.049971,
     "end_time": "2024-10-14T20:10:31.713535",
     "exception": false,
     "start_time": "2024-10-14T20:10:31.663564",
     "status": "completed"
    },
    "tags": []
   },
   "outputs": [],
   "source": [
    "# convert any categorize feature to a numerical one\n",
    "data[\"REGION_CLUSTER\"]=pd.factorize(data[\"REGION_CLUSTER\"])[0]\n",
    "data[\"MAINTENANCE_VENDOR\"]=pd.factorize(data[\"MAINTENANCE_VENDOR\"])[0]\n",
    "data[\"MANUFACTURER\"]=pd.factorize(data[\"MANUFACTURER\"])[0]"
   ]
  },
  {
   "cell_type": "code",
   "execution_count": 6,
   "id": "b5185cac",
   "metadata": {
    "execution": {
     "iopub.execute_input": "2024-10-14T20:10:31.730071Z",
     "iopub.status.busy": "2024-10-14T20:10:31.729002Z",
     "iopub.status.idle": "2024-10-14T20:10:31.765493Z",
     "shell.execute_reply": "2024-10-14T20:10:31.764309Z"
    },
    "papermill": {
     "duration": 0.047364,
     "end_time": "2024-10-14T20:10:31.768103",
     "exception": false,
     "start_time": "2024-10-14T20:10:31.720739",
     "status": "completed"
    },
    "tags": []
   },
   "outputs": [],
   "source": [
    "# we will drop the data  I belive ther are not important feature\n",
    "data.drop(columns=\"DATE\",axis=1,inplace=True)\n",
    "data.drop(columns=\"ID\",axis=1,inplace=True)\n",
    "data.drop(columns=\"MACHINE_ID\",axis=1,inplace=True)"
   ]
  },
  {
   "cell_type": "code",
   "execution_count": 7,
   "id": "29021a5a",
   "metadata": {
    "execution": {
     "iopub.execute_input": "2024-10-14T20:10:31.784319Z",
     "iopub.status.busy": "2024-10-14T20:10:31.783393Z",
     "iopub.status.idle": "2024-10-14T20:10:31.800350Z",
     "shell.execute_reply": "2024-10-14T20:10:31.799099Z"
    },
    "papermill": {
     "duration": 0.027853,
     "end_time": "2024-10-14T20:10:31.803039",
     "exception": false,
     "start_time": "2024-10-14T20:10:31.775186",
     "status": "completed"
    },
    "tags": []
   },
   "outputs": [
    {
     "name": "stdout",
     "output_type": "stream",
     "text": [
      "0    0\n",
      "1    0\n",
      "2    0\n",
      "3    0\n",
      "4    0\n",
      "Name: EQUIPMENT_FAILURE, dtype: int64 EQUIPMENT_FAILURE\n",
      "0    145162\n",
      "1       197\n",
      "Name: count, dtype: int64\n"
     ]
    }
   ],
   "source": [
    "# split the data to features and target x for features and y for target\n",
    "x= data.drop(columns=\"EQUIPMENT_FAILURE\")\n",
    "\n",
    "y=data[\"EQUIPMENT_FAILURE\"]\n",
    "print(y.head(),y.value_counts())"
   ]
  },
  {
   "cell_type": "code",
   "execution_count": 8,
   "id": "d93ae134",
   "metadata": {
    "execution": {
     "iopub.execute_input": "2024-10-14T20:10:31.820425Z",
     "iopub.status.busy": "2024-10-14T20:10:31.819981Z",
     "iopub.status.idle": "2024-10-14T20:10:34.183790Z",
     "shell.execute_reply": "2024-10-14T20:10:34.182553Z"
    },
    "papermill": {
     "duration": 2.375481,
     "end_time": "2024-10-14T20:10:34.186221",
     "exception": false,
     "start_time": "2024-10-14T20:10:31.810740",
     "status": "completed"
    },
    "tags": []
   },
   "outputs": [
    {
     "data": {
      "image/png": "[encoded data removed]",
      "text/plain": [
       "<Figure size 800x400 with 2 Axes>"
      ]
     },
     "metadata": {},
     "output_type": "display_data"
    }
   ],
   "source": [
    "# plot the data\n",
    "import matplotlib.pyplot as plt\n",
    "import seaborn as sns\n",
    "fig,ax=plt.subplots(nrows=1,ncols=2,figsize=(8,4))\n",
    "ax[0].scatter(x.index,y.values)\n",
    "indx,c=np.unique(y,return_counts=True)\n",
    "sns.barplot(x=indx,y=c)\n",
    "plt.show()"
   ]
  },
  {
   "cell_type": "code",
   "execution_count": 9,
   "id": "b7c7f53d",
   "metadata": {
    "execution": {
     "iopub.execute_input": "2024-10-14T20:10:34.203280Z",
     "iopub.status.busy": "2024-10-14T20:10:34.202685Z",
     "iopub.status.idle": "2024-10-14T20:11:06.805022Z",
     "shell.execute_reply": "2024-10-14T20:11:06.803398Z"
    },
    "papermill": {
     "duration": 32.615001,
     "end_time": "2024-10-14T20:11:06.808951",
     "exception": false,
     "start_time": "2024-10-14T20:10:34.193950",
     "status": "completed"
    },
    "tags": []
   },
   "outputs": [
    {
     "name": "stdout",
     "output_type": "stream",
     "text": [
      "Requirement already satisfied: imbalanced-learn in /opt/conda/lib/python3.10/site-packages (0.12.3)\r\n",
      "Requirement already satisfied: numpy>=1.17.3 in /opt/conda/lib/python3.10/site-packages (from imbalanced-learn) (1.26.4)\r\n",
      "Requirement already satisfied: scipy>=1.5.0 in /opt/conda/lib/python3.10/site-packages (from imbalanced-learn) (1.14.1)\r\n",
      "Requirement already satisfied: scikit-learn>=1.0.2 in /opt/conda/lib/python3.10/site-packages (from imbalanced-learn) (1.2.2)\r\n",
      "Requirement already satisfied: joblib>=1.1.1 in /opt/conda/lib/python3.10/site-packages (from imbalanced-learn) (1.4.2)\r\n",
      "Requirement already satisfied: threadpoolctl>=2.0.0 in /opt/conda/lib/python3.10/site-packages (from imbalanced-learn) (3.5.0)\r\n"
     ]
    }
   ],
   "source": [
    "# sine we have imbalance data we will use SMOTE \n",
    "! pip install imbalanced-learn"
   ]
  },
  {
   "cell_type": "code",
   "execution_count": 10,
   "id": "2d2a9951",
   "metadata": {
    "execution": {
     "iopub.execute_input": "2024-10-14T20:11:06.832660Z",
     "iopub.status.busy": "2024-10-14T20:11:06.832158Z",
     "iopub.status.idle": "2024-10-14T20:11:07.688144Z",
     "shell.execute_reply": "2024-10-14T20:11:07.686791Z"
    },
    "papermill": {
     "duration": 0.870578,
     "end_time": "2024-10-14T20:11:07.690764",
     "exception": false,
     "start_time": "2024-10-14T20:11:06.820186",
     "status": "completed"
    },
    "tags": []
   },
   "outputs": [],
   "source": [
    "from imblearn.over_sampling import SMOTE\n",
    "x_resampled,y_resampled=SMOTE().fit_resample(x,y)"
   ]
  },
  {
   "cell_type": "code",
   "execution_count": 11,
   "id": "68fdf01f",
   "metadata": {
    "execution": {
     "iopub.execute_input": "2024-10-14T20:11:07.709306Z",
     "iopub.status.busy": "2024-10-14T20:11:07.708172Z",
     "iopub.status.idle": "2024-10-14T20:11:08.651859Z",
     "shell.execute_reply": "2024-10-14T20:11:08.650561Z"
    },
    "papermill": {
     "duration": 0.955607,
     "end_time": "2024-10-14T20:11:08.654336",
     "exception": false,
     "start_time": "2024-10-14T20:11:07.698729",
     "status": "completed"
    },
    "tags": []
   },
   "outputs": [
    {
     "data": {
      "image/png": "[encoded data removed]",
      "text/plain": [
       "<Figure size 800x400 with 2 Axes>"
      ]
     },
     "metadata": {},
     "output_type": "display_data"
    }
   ],
   "source": [
    "# plot the data after resample \n",
    "import matplotlib.pyplot as plt\n",
    "import seaborn as sns\n",
    "fig,ax=plt.subplots(nrows=1,ncols=2,figsize=(8,4))\n",
    "ax[0].scatter(x_resampled.index,y_resampled.values)\n",
    "indx,c=np.unique(y_resampled,return_counts=True)\n",
    "sns.barplot(x=indx,y=c)\n",
    "plt.show()"
   ]
  },
  {
   "cell_type": "code",
   "execution_count": 12,
   "id": "4f369f52",
   "metadata": {
    "execution": {
     "iopub.execute_input": "2024-10-14T20:11:08.671840Z",
     "iopub.status.busy": "2024-10-14T20:11:08.671411Z",
     "iopub.status.idle": "2024-10-14T20:11:08.764008Z",
     "shell.execute_reply": "2024-10-14T20:11:08.762684Z"
    },
    "papermill": {
     "duration": 0.104262,
     "end_time": "2024-10-14T20:11:08.766478",
     "exception": false,
     "start_time": "2024-10-14T20:11:08.662216",
     "status": "completed"
    },
    "tags": []
   },
   "outputs": [
    {
     "name": "stdout",
     "output_type": "stream",
     "text": [
      "   REGION_CLUSTER  MAINTENANCE_VENDOR  MANUFACTURER  WELL_GROUP      S15  \\\n",
      "0               0                   0             0           4  23.0400   \n",
      "1               1                   1             1           1  20.7180   \n",
      "2               0                   1             2           3  24.2400   \n",
      "3               2                   2             3           4  10.4305   \n",
      "4               2                   2             3           4   8.2516   \n",
      "\n",
      "      S17    S13           S5      S16   S19    S18          S8  \\\n",
      "0    0.00  25.60  2150.000000  10.2128   7.9   89.2  108.490000   \n",
      "1    6.64  35.80  4260.210526   0.0000   3.6  202.7   12.365263   \n",
      "2    0.00  32.92  3917.000000  10.4066  30.1  300.3  284.660000   \n",
      "3  186.16  27.33  2432.000000   8.0769   6.3   20.3   45.010000   \n",
      "4  203.83  30.38  2704.000000   6.7431   7.4   26.2   41.740000   \n",
      "\n",
      "   AGE_OF_EQUIPMENT  \n",
      "0              1219  \n",
      "1              8882  \n",
      "2               415  \n",
      "3               919  \n",
      "4               405  \n"
     ]
    }
   ],
   "source": [
    "# for the sake of optamization we will normalize the data \n",
    "# using sklearn\n",
    "#drop the \n",
    "from sklearn.preprocessing import StandardScaler\n",
    "scaler=StandardScaler()\n",
    "x_scaled=scaler.fit_transform(x_resampled)\n",
    "print(x.head())"
   ]
  },
  {
   "cell_type": "code",
   "execution_count": 13,
   "id": "69353591",
   "metadata": {
    "execution": {
     "iopub.execute_input": "2024-10-14T20:11:08.785482Z",
     "iopub.status.busy": "2024-10-14T20:11:08.784453Z",
     "iopub.status.idle": "2024-10-14T20:11:08.858995Z",
     "shell.execute_reply": "2024-10-14T20:11:08.857777Z"
    },
    "papermill": {
     "duration": 0.086798,
     "end_time": "2024-10-14T20:11:08.861600",
     "exception": false,
     "start_time": "2024-10-14T20:11:08.774802",
     "status": "completed"
    },
    "tags": []
   },
   "outputs": [],
   "source": [
    "# I willl use the scikitlearn \n",
    "# first split the data to 80% train and 20% for testing\n",
    "\n",
    "from sklearn.model_selection import train_test_split\n",
    "x_train,x_test,y_train,y_test=train_test_split(x_resampled,y_resampled,test_size=0.2,random_state=33)\n"
   ]
  },
  {
   "cell_type": "code",
   "execution_count": 14,
   "id": "d8f208e7",
   "metadata": {
    "execution": {
     "iopub.execute_input": "2024-10-14T20:11:08.879394Z",
     "iopub.status.busy": "2024-10-14T20:11:08.878975Z",
     "iopub.status.idle": "2024-10-14T20:11:08.884997Z",
     "shell.execute_reply": "2024-10-14T20:11:08.883805Z"
    },
    "papermill": {
     "duration": 0.018349,
     "end_time": "2024-10-14T20:11:08.888066",
     "exception": false,
     "start_time": "2024-10-14T20:11:08.869717",
     "status": "completed"
    },
    "tags": []
   },
   "outputs": [
    {
     "name": "stdout",
     "output_type": "stream",
     "text": [
      "(232259, 13) (232259,)\n",
      "(58065, 13) (58065,)\n"
     ]
    }
   ],
   "source": [
    "# check the data splitting\n",
    "\n",
    "print(x_train.shape,y_train.shape)\n",
    "print(x_test.shape,y_test.shape)"
   ]
  },
  {
   "cell_type": "code",
   "execution_count": 15,
   "id": "30bb5431",
   "metadata": {
    "execution": {
     "iopub.execute_input": "2024-10-14T20:11:08.906494Z",
     "iopub.status.busy": "2024-10-14T20:11:08.906059Z",
     "iopub.status.idle": "2024-10-14T20:11:08.911457Z",
     "shell.execute_reply": "2024-10-14T20:11:08.910247Z"
    },
    "papermill": {
     "duration": 0.017265,
     "end_time": "2024-10-14T20:11:08.914016",
     "exception": false,
     "start_time": "2024-10-14T20:11:08.896751",
     "status": "completed"
    },
    "tags": []
   },
   "outputs": [],
   "source": [
    "# # let us check the svm for model creation ,training \n",
    "# from sklearn.svm import SVC\n",
    "# from sklearn.metrics import accuracy_score\n",
    "# classifier=SVC()\n",
    "# classifier.fit(x_train,y_train)\n",
    "# y_test_predict=classifier.predict(x_test)\n",
    "# # check the overfitting\n",
    "# y_train_predict=classifier.predict(x_train)\n",
    "# print(accuracy_score(y_test,y_test_predict))\n",
    "# print(accuracy_score(y_train,y_train_predict))\n",
    "# y_predict=classifier.predict(x)\n",
    "\n",
    "\n",
    "\n"
   ]
  },
  {
   "cell_type": "code",
   "execution_count": 16,
   "id": "379c1958",
   "metadata": {
    "execution": {
     "iopub.execute_input": "2024-10-14T20:11:08.932998Z",
     "iopub.status.busy": "2024-10-14T20:11:08.932548Z",
     "iopub.status.idle": "2024-10-14T20:14:22.327787Z",
     "shell.execute_reply": "2024-10-14T20:14:22.326169Z"
    },
    "papermill": {
     "duration": 193.407775,
     "end_time": "2024-10-14T20:14:22.330315",
     "exception": false,
     "start_time": "2024-10-14T20:11:08.922540",
     "status": "completed"
    },
    "tags": []
   },
   "outputs": [
    {
     "name": "stdout",
     "output_type": "stream",
     "text": [
      "Epoch 1/10\n",
      "\u001b[1m11613/11613\u001b[0m \u001b[32m━━━━━━━━━━━━━━━━━━━━\u001b[0m\u001b[37m\u001b[0m \u001b[1m19s\u001b[0m 1ms/step - accuracy: 0.9615 - loss: 0.1239\n",
      "Epoch 2/10\n",
      "\u001b[1m11613/11613\u001b[0m \u001b[32m━━━━━━━━━━━━━━━━━━━━\u001b[0m\u001b[37m\u001b[0m \u001b[1m17s\u001b[0m 2ms/step - accuracy: 0.9688 - loss: 0.1044\n",
      "Epoch 3/10\n",
      "\u001b[1m11613/11613\u001b[0m \u001b[32m━━━━━━━━━━━━━━━━━━━━\u001b[0m\u001b[37m\u001b[0m \u001b[1m18s\u001b[0m 2ms/step - accuracy: 0.9702 - loss: 0.1018\n",
      "Epoch 4/10\n",
      "\u001b[1m11613/11613\u001b[0m \u001b[32m━━━━━━━━━━━━━━━━━━━━\u001b[0m\u001b[37m\u001b[0m \u001b[1m17s\u001b[0m 2ms/step - accuracy: 0.9707 - loss: 0.1002\n",
      "Epoch 5/10\n",
      "\u001b[1m11613/11613\u001b[0m \u001b[32m━━━━━━━━━━━━━━━━━━━━\u001b[0m\u001b[37m\u001b[0m \u001b[1m18s\u001b[0m 2ms/step - accuracy: 0.9699 - loss: 0.1017\n",
      "Epoch 6/10\n",
      "\u001b[1m11613/11613\u001b[0m \u001b[32m━━━━━━━━━━━━━━━━━━━━\u001b[0m\u001b[37m\u001b[0m \u001b[1m18s\u001b[0m 2ms/step - accuracy: 0.9705 - loss: 0.1007\n",
      "Epoch 7/10\n",
      "\u001b[1m11613/11613\u001b[0m \u001b[32m━━━━━━━━━━━━━━━━━━━━\u001b[0m\u001b[37m\u001b[0m \u001b[1m17s\u001b[0m 1ms/step - accuracy: 0.9703 - loss: 0.1023\n",
      "Epoch 8/10\n",
      "\u001b[1m11613/11613\u001b[0m \u001b[32m━━━━━━━━━━━━━━━━━━━━\u001b[0m\u001b[37m\u001b[0m \u001b[1m17s\u001b[0m 1ms/step - accuracy: 0.9710 - loss: 0.0991\n",
      "Epoch 9/10\n",
      "\u001b[1m11613/11613\u001b[0m \u001b[32m━━━━━━━━━━━━━━━━━━━━\u001b[0m\u001b[37m\u001b[0m \u001b[1m18s\u001b[0m 2ms/step - accuracy: 0.9711 - loss: 0.1004\n",
      "Epoch 10/10\n",
      "\u001b[1m11613/11613\u001b[0m \u001b[32m━━━━━━━━━━━━━━━━━━━━\u001b[0m\u001b[37m\u001b[0m \u001b[1m19s\u001b[0m 2ms/step - accuracy: 0.9697 - loss: 0.1028\n"
     ]
    },
    {
     "data": {
      "text/plain": [
       "<keras.src.callbacks.history.History at 0x799e15d98cd0>"
      ]
     },
     "execution_count": 16,
     "metadata": {},
     "output_type": "execute_result"
    }
   ],
   "source": [
    "# since it transformed to huge data I will use neural network for classification\n",
    "import tensorflow.keras as kera\n",
    "from keras.models import Sequential\n",
    "from keras.layers import Dense,Flatten,BatchNormalization\n",
    "from keras.optimizers import Adam\n",
    "from keras.losses import SparseCategoricalCrossentropy,BinaryCrossentropy\n",
    " \n",
    "model=Sequential([\n",
    "   \n",
    "    BatchNormalization(),\n",
    "    Dense(128,activation=\"relu\"),\n",
    "    Dense(64,activation=\"relu\"),\n",
    "    Dense(2,activation=\"sigmoid\")\n",
    "])\n",
    "model.compile(optimizer=Adam(learning_rate=0.01),\\\n",
    "              loss=SparseCategoricalCrossentropy(),metrics=[\"accuracy\"]),\n",
    "\n",
    "model.fit(x_train,y_train,epochs=10,batch_size=20)\n"
   ]
  },
  {
   "cell_type": "code",
   "execution_count": 17,
   "id": "697a0414",
   "metadata": {
    "execution": {
     "iopub.execute_input": "2024-10-14T20:14:22.818468Z",
     "iopub.status.busy": "2024-10-14T20:14:22.817606Z",
     "iopub.status.idle": "2024-10-14T20:14:25.155848Z",
     "shell.execute_reply": "2024-10-14T20:14:25.154506Z"
    },
    "papermill": {
     "duration": 2.587284,
     "end_time": "2024-10-14T20:14:25.158466",
     "exception": false,
     "start_time": "2024-10-14T20:14:22.571182",
     "status": "completed"
    },
    "tags": []
   },
   "outputs": [
    {
     "name": "stdout",
     "output_type": "stream",
     "text": [
      "\u001b[1m1815/1815\u001b[0m \u001b[32m━━━━━━━━━━━━━━━━━━━━\u001b[0m\u001b[37m\u001b[0m \u001b[1m2s\u001b[0m 1ms/step - accuracy: 0.9752 - loss: 0.0924\n"
     ]
    },
    {
     "data": {
      "text/plain": [
       "[0.09523452073335648, 0.9753379821777344]"
      ]
     },
     "execution_count": 17,
     "metadata": {},
     "output_type": "execute_result"
    }
   ],
   "source": [
    "model.evaluate(x_test,y_test)\n"
   ]
  },
  {
   "cell_type": "markdown",
   "id": "6aa3ca6d",
   "metadata": {
    "papermill": {
     "duration": 0.248077,
     "end_time": "2024-10-14T20:14:25.651019",
     "exception": false,
     "start_time": "2024-10-14T20:14:25.402942",
     "status": "completed"
    },
    "tags": []
   },
   "source": [
    "it is an excellent accuracy\n"
   ]
  },
  {
   "cell_type": "code",
   "execution_count": 18,
   "id": "d176b57b",
   "metadata": {
    "execution": {
     "iopub.execute_input": "2024-10-14T20:14:26.147056Z",
     "iopub.status.busy": "2024-10-14T20:14:26.145973Z",
     "iopub.status.idle": "2024-10-14T20:14:41.544600Z",
     "shell.execute_reply": "2024-10-14T20:14:41.543352Z"
    },
    "papermill": {
     "duration": 15.650977,
     "end_time": "2024-10-14T20:14:41.547308",
     "exception": false,
     "start_time": "2024-10-14T20:14:25.896331",
     "status": "completed"
    },
    "tags": []
   },
   "outputs": [
    {
     "name": "stdout",
     "output_type": "stream",
     "text": [
      "\u001b[1m1815/1815\u001b[0m \u001b[32m━━━━━━━━━━━━━━━━━━━━\u001b[0m\u001b[37m\u001b[0m \u001b[1m2s\u001b[0m 1ms/step\n",
      "\u001b[1m7259/7259\u001b[0m \u001b[32m━━━━━━━━━━━━━━━━━━━━\u001b[0m\u001b[37m\u001b[0m \u001b[1m9s\u001b[0m 1ms/step\n"
     ]
    }
   ],
   "source": [
    "y_test_predict=np.argmax(model.predict(x_test),axis=-1)\n",
    "y_train_predict=np.argmax(model.predict(x_train),axis=-1)\n",
    "from sklearn.metrics import confusion_matrix,accuracy_score, precision_score, recall_score\n",
    "# tn,fp,fn,tp=confusion_matrix(y_test,y_test_predict).ravel()\n",
    "# print(tn,fp,fn,tp)\n"
   ]
  },
  {
   "cell_type": "code",
   "execution_count": 19,
   "id": "c7782936",
   "metadata": {
    "execution": {
     "iopub.execute_input": "2024-10-14T20:14:42.131713Z",
     "iopub.status.busy": "2024-10-14T20:14:42.130334Z",
     "iopub.status.idle": "2024-10-14T20:14:42.137117Z",
     "shell.execute_reply": "2024-10-14T20:14:42.135799Z"
    },
    "papermill": {
     "duration": 0.271139,
     "end_time": "2024-10-14T20:14:42.139596",
     "exception": false,
     "start_time": "2024-10-14T20:14:41.868457",
     "status": "completed"
    },
    "tags": []
   },
   "outputs": [
    {
     "name": "stdout",
     "output_type": "stream",
     "text": [
      "[0 1 0 ... 1 1 0]\n"
     ]
    }
   ],
   "source": [
    "print(y_test_predict)"
   ]
  },
  {
   "cell_type": "code",
   "execution_count": 20,
   "id": "e3710e56",
   "metadata": {
    "execution": {
     "iopub.execute_input": "2024-10-14T20:14:42.656873Z",
     "iopub.status.busy": "2024-10-14T20:14:42.655740Z",
     "iopub.status.idle": "2024-10-14T20:14:42.972755Z",
     "shell.execute_reply": "2024-10-14T20:14:42.971551Z"
    },
    "papermill": {
     "duration": 0.580114,
     "end_time": "2024-10-14T20:14:42.975279",
     "exception": false,
     "start_time": "2024-10-14T20:14:42.395165",
     "status": "completed"
    },
    "tags": []
   },
   "outputs": [
    {
     "name": "stdout",
     "output_type": "stream",
     "text": [
      "0.9753379832945837\n",
      "0.9747609349906785\n",
      "0.9553048740380188\n",
      "0.9542605999637185\n",
      "0.9974931318681318\n",
      "0.9972854656072802\n"
     ]
    }
   ],
   "source": [
    "print(accuracy_score(y_test,y_test_predict))\n",
    "print(accuracy_score(y_train,y_train_predict))\n",
    "print(precision_score(y_test,y_test_predict))\n",
    "print(precision_score(y_train,y_train_predict))\n",
    "print(recall_score(y_test,y_test_predict))\n",
    "print(recall_score(y_train,y_train_predict))"
   ]
  },
  {
   "cell_type": "code",
   "execution_count": 21,
   "id": "155e1f27",
   "metadata": {
    "execution": {
     "iopub.execute_input": "2024-10-14T20:14:43.490023Z",
     "iopub.status.busy": "2024-10-14T20:14:43.489598Z",
     "iopub.status.idle": "2024-10-14T20:14:43.515700Z",
     "shell.execute_reply": "2024-10-14T20:14:43.514367Z"
    },
    "papermill": {
     "duration": 0.288073,
     "end_time": "2024-10-14T20:14:43.518316",
     "exception": false,
     "start_time": "2024-10-14T20:14:43.230243",
     "status": "completed"
    },
    "tags": []
   },
   "outputs": [],
   "source": [
    "# since there is no over nor underfitting\n",
    "#now for the prediction for the evaluation data \n",
    "x_evaluation=pd.read_csv(\"/kaggle/input/evaluation/Evaluation 1.csv\")"
   ]
  },
  {
   "cell_type": "code",
   "execution_count": 22,
   "id": "49478a2e",
   "metadata": {
    "execution": {
     "iopub.execute_input": "2024-10-14T20:14:44.095897Z",
     "iopub.status.busy": "2024-10-14T20:14:44.095446Z",
     "iopub.status.idle": "2024-10-14T20:14:44.137185Z",
     "shell.execute_reply": "2024-10-14T20:14:44.135635Z"
    },
    "papermill": {
     "duration": 0.358996,
     "end_time": "2024-10-14T20:14:44.139957",
     "exception": false,
     "start_time": "2024-10-14T20:14:43.780961",
     "status": "completed"
    },
    "tags": []
   },
   "outputs": [
    {
     "name": "stdout",
     "output_type": "stream",
     "text": [
      "                  ID     MACHINE_ID   WELL_GROUP          S15          S17  \\\n",
      "count    4496.000000    4496.000000  4496.000000  4496.000000  4496.000000   \n",
      "mean    75381.365214  100322.052714     2.497776    13.821116    87.662563   \n",
      "std     43640.731286     180.036674     1.090150     8.626588    86.012731   \n",
      "min        49.000000  100001.000000     1.000000     0.000000     0.000000   \n",
      "25%     37006.750000  100162.000000     2.000000     7.400475     0.000000   \n",
      "50%     75978.000000  100338.000000     2.000000    10.848000   102.785000   \n",
      "75%    113934.750000  100475.000000     3.000000    21.712800   164.055000   \n",
      "max    149850.000000  100612.000000     4.000000    30.000000   448.920000   \n",
      "\n",
      "               S13            S5          S16          S19          S18  \\\n",
      "count  4496.000000   4496.000000  4496.000000  4496.000000  4496.000000   \n",
      "mean     35.364424   4508.039301     7.930037     8.066619   106.801226   \n",
      "std      14.857351   2418.915819     2.426943    13.231884   190.926585   \n",
      "min       0.000000      0.000000     0.000000     0.000000     0.000000   \n",
      "25%      28.000000   3152.000000     6.605025     0.900000    10.400000   \n",
      "50%      34.960000   4184.000000     8.064000     3.900000    33.000000   \n",
      "75%      41.870000   5586.250000     9.487000    10.000000   113.100000   \n",
      "max     441.480000  52536.000000    17.859900   286.300000  1642.300000   \n",
      "\n",
      "                S8  AGE_OF_EQUIPMENT  \n",
      "count  4496.000000       4496.000000  \n",
      "mean    115.834407       2722.197731  \n",
      "std     202.111829       3330.493520  \n",
      "min      -0.330000          1.000000  \n",
      "25%       7.356875        760.000000  \n",
      "50%      41.815000       1137.000000  \n",
      "75%     128.710000       3163.750000  \n",
      "max    1812.530000      15159.000000  \n",
      "Index(['ID', 'MACHINE_ID', 'DATE', 'REGION_CLUSTER', 'MAINTENANCE_VENDOR',\n",
      "       'MANUFACTURER', 'WELL_GROUP', 'S15', 'S17', 'S13', 'S5', 'S16', 'S19',\n",
      "       'S18', 'S8', 'AGE_OF_EQUIPMENT'],\n",
      "      dtype='object')\n",
      "ID                    0\n",
      "MACHINE_ID            0\n",
      "DATE                  0\n",
      "REGION_CLUSTER        0\n",
      "MAINTENANCE_VENDOR    0\n",
      "MANUFACTURER          0\n",
      "WELL_GROUP            0\n",
      "S15                   0\n",
      "S17                   0\n",
      "S13                   0\n",
      "S5                    0\n",
      "S16                   0\n",
      "S19                   0\n",
      "S18                   0\n",
      "S8                    0\n",
      "AGE_OF_EQUIPMENT      0\n",
      "dtype: int64\n"
     ]
    }
   ],
   "source": [
    "# check the data and cleansing it \n",
    "print(x_evaluation.describe())\n",
    "print(x_evaluation.columns)\n",
    "print(x_evaluation.isna().sum())\n"
   ]
  },
  {
   "cell_type": "code",
   "execution_count": 23,
   "id": "59fba3ae",
   "metadata": {
    "execution": {
     "iopub.execute_input": "2024-10-14T20:14:44.654756Z",
     "iopub.status.busy": "2024-10-14T20:14:44.653709Z",
     "iopub.status.idle": "2024-10-14T20:14:44.662610Z",
     "shell.execute_reply": "2024-10-14T20:14:44.661536Z"
    },
    "papermill": {
     "duration": 0.268258,
     "end_time": "2024-10-14T20:14:44.665014",
     "exception": false,
     "start_time": "2024-10-14T20:14:44.396756",
     "status": "completed"
    },
    "tags": []
   },
   "outputs": [],
   "source": [
    "x_evaluation[\"REGION_CLUSTER\"]=pd.factorize(x_evaluation[\"REGION_CLUSTER\"])[0]\n",
    "x_evaluation[\"MAINTENANCE_VENDOR\"]=pd.factorize(x_evaluation[\"MAINTENANCE_VENDOR\"])[0]\n",
    "x_evaluation[\"MANUFACTURER\"]=pd.factorize(x_evaluation[\"MANUFACTURER\"])[0]"
   ]
  },
  {
   "cell_type": "code",
   "execution_count": 24,
   "id": "b837ee98",
   "metadata": {
    "execution": {
     "iopub.execute_input": "2024-10-14T20:14:45.187714Z",
     "iopub.status.busy": "2024-10-14T20:14:45.187273Z",
     "iopub.status.idle": "2024-10-14T20:14:45.197026Z",
     "shell.execute_reply": "2024-10-14T20:14:45.195840Z"
    },
    "papermill": {
     "duration": 0.273385,
     "end_time": "2024-10-14T20:14:45.199723",
     "exception": false,
     "start_time": "2024-10-14T20:14:44.926338",
     "status": "completed"
    },
    "tags": []
   },
   "outputs": [],
   "source": [
    "# we will drop the data  I belive ther are not important feature\n",
    "x_evaluation.drop(columns=\"DATE\",axis=1,inplace=True)\n",
    "x_evaluation.drop(columns=\"ID\",axis=1,inplace=True)\n",
    "x_evaluation.drop(columns=\"MACHINE_ID\",axis=1,inplace=True)"
   ]
  },
  {
   "cell_type": "code",
   "execution_count": 25,
   "id": "f706499f",
   "metadata": {
    "execution": {
     "iopub.execute_input": "2024-10-14T20:14:45.725880Z",
     "iopub.status.busy": "2024-10-14T20:14:45.725420Z",
     "iopub.status.idle": "2024-10-14T20:14:46.067591Z",
     "shell.execute_reply": "2024-10-14T20:14:46.066226Z"
    },
    "papermill": {
     "duration": 0.61322,
     "end_time": "2024-10-14T20:14:46.070690",
     "exception": false,
     "start_time": "2024-10-14T20:14:45.457470",
     "status": "completed"
    },
    "tags": []
   },
   "outputs": [
    {
     "name": "stdout",
     "output_type": "stream",
     "text": [
      "\u001b[1m141/141\u001b[0m \u001b[32m━━━━━━━━━━━━━━━━━━━━\u001b[0m\u001b[37m\u001b[0m \u001b[1m0s\u001b[0m 1ms/step\n"
     ]
    }
   ],
   "source": [
    "# predict the equipment failure with the same model\n",
    "x_evaluation_scaled=scaler.transform(x_evaluation)\n",
    "y_evaluation=model.predict(x_evaluation)\n"
   ]
  },
  {
   "cell_type": "code",
   "execution_count": 26,
   "id": "ac1d3698",
   "metadata": {
    "execution": {
     "iopub.execute_input": "2024-10-14T20:14:46.651290Z",
     "iopub.status.busy": "2024-10-14T20:14:46.650024Z",
     "iopub.status.idle": "2024-10-14T20:14:46.658794Z",
     "shell.execute_reply": "2024-10-14T20:14:46.657500Z"
    },
    "papermill": {
     "duration": 0.279415,
     "end_time": "2024-10-14T20:14:46.661403",
     "exception": false,
     "start_time": "2024-10-14T20:14:46.381988",
     "status": "completed"
    },
    "tags": []
   },
   "outputs": [
    {
     "name": "stdout",
     "output_type": "stream",
     "text": [
      "4496\n",
      "(array([0, 1]), array([4224,  272]))\n"
     ]
    }
   ],
   "source": [
    "EQUIPMENT_FAILURE=np.argmax(y_evaluation,axis=-1)\n",
    "print(len(y_evaluation))\n",
    "print(np.unique(EQUIPMENT_FAILURE,return_counts=True))"
   ]
  },
  {
   "cell_type": "code",
   "execution_count": 27,
   "id": "280e1dce",
   "metadata": {
    "execution": {
     "iopub.execute_input": "2024-10-14T20:14:47.212842Z",
     "iopub.status.busy": "2024-10-14T20:14:47.212378Z",
     "iopub.status.idle": "2024-10-14T20:14:47.227461Z",
     "shell.execute_reply": "2024-10-14T20:14:47.226460Z"
    },
    "papermill": {
     "duration": 0.280092,
     "end_time": "2024-10-14T20:14:47.230029",
     "exception": false,
     "start_time": "2024-10-14T20:14:46.949937",
     "status": "completed"
    },
    "tags": []
   },
   "outputs": [],
   "source": [
    "output=pd.DataFrame()\n",
    "output[\"ID\"]=x_evaluation.index\n",
    "output[\"EQUIPMENT_FAILURE\"]=EQUIPMENT_FAILURE\n",
    "output.to_csv(\"/kaggle/working/team_278_submission.csv\", index=False)"
   ]
  }
 ],
 "metadata": {
  "kaggle": {
   "accelerator": "none",
   "dataSources": [
    {
     "datasetId": 5873835,
     "sourceId": 9623281,
     "sourceType": "datasetVersion"
    },
    {
     "datasetId": 5874466,
     "sourceId": 9624074,
     "sourceType": "datasetVersion"
    }
   ],
   "dockerImageVersionId": 30786,
   "isGpuEnabled": false,
   "isInternetEnabled": false,
   "language": "python",
   "sourceType": "notebook"
  },
  "kernelspec": {
   "display_name": "Python 3",
   "language": "python",
   "name": "python3"
  },
  "language_info": {
   "codemirror_mode": {
    "name": "ipython",
    "version": 3
   },
   "file_extension": ".py",
   "mimetype": "text/x-python",
   "name": "python",
   "nbconvert_exporter": "python",
   "pygments_lexer": "ipython3",
   "version": "3.10.14"
  },
  "papermill": {
   "default_parameters": {},
   "duration": 262.676185,
   "end_time": "2024-10-14T20:14:49.970655",
   "environment_variables": {},
   "exception": null,
   "input_path": "__notebook__.ipynb",
   "output_path": "__notebook__.ipynb",
   "parameters": {},
   "start_time": "2024-10-14T20:10:27.294470",
   "version": "2.6.0"
  }
 },
 "nbformat": 4,
 "nbformat_minor": 5
}
